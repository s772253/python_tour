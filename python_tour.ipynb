{
 "cells": [
  {
   "cell_type": "code",
   "execution_count": 15,
   "metadata": {},
   "outputs": [
    {
     "name": "stdout",
     "output_type": "stream",
     "text": [
      "0\n",
      "7\n",
      "6\n",
      "[2, 3, 4]\n",
      "[1, 2, 3, 4, 5]\n",
      "[1, 3, 5]\n",
      "[1, 4]\n",
      "[0, 2, 4, 6]\n",
      "[0, 1, 2, 3, 4, 5, 6]\n",
      "[0, 2, 4, 6]\n",
      "[0, 1, 2, 3]\n"
     ]
    }
   ],
   "source": [
    "#list\n",
    "a = [0, 1, 2, 3, 4, 5, 6, 7]\n",
    "print(a[0])\n",
    "print(a[-1])\n",
    "print(a[-2])\n",
    "print(a[2:5])\n",
    "print(a[1:6])\n",
    "print(a[1:6:2])\n",
    "print(a[1:6:3])\n",
    "print(a[0:7:2])\n",
    "print(a[0:-1])\n",
    "print(a[::2])\n",
    "print(a[:4])"
   ]
  },
  {
   "cell_type": "code",
   "execution_count": 22,
   "metadata": {},
   "outputs": [
    {
     "name": "stdout",
     "output_type": "stream",
     "text": [
      "0 : apple\n",
      "1 : banana\n",
      "2 : cake\n",
      "3 : dog\n",
      "4 : egg\n",
      "5 : fish\n"
     ]
    }
   ],
   "source": [
    "sss = ['apple', 'banana', 'cake', 'dog', 'egg', 'fish']\n",
    "time = 0\n",
    "'''\n",
    "for s in sss:\n",
    "    print(s)\n",
    "    print(time)\n",
    "    time += 1\n",
    "'''\n",
    "for time, s in enumerate(sss):\n",
    "    print(time, ':' ,s)"
   ]
  },
  {
   "cell_type": "code",
   "execution_count": 28,
   "metadata": {},
   "outputs": [
    {
     "name": "stdout",
     "output_type": "stream",
     "text": [
      "aaa : apple\n",
      "bbb : banana\n",
      "ccc : cake\n",
      "ddd : dog\n",
      "eee : egg\n",
      "fff : fish\n"
     ]
    }
   ],
   "source": [
    "sss = ['apple', 'banana', 'cake', 'dog', 'egg', 'fish']\n",
    "sss2 = ['aaa', 'bbb', 'ccc', 'ddd', 'eee', 'fff']\n",
    "for i in range(len(sss)):\n",
    "    print(sss2[i], ':', sss[i])"
   ]
  },
  {
   "cell_type": "code",
   "execution_count": 32,
   "metadata": {},
   "outputs": [
    {
     "name": "stdout",
     "output_type": "stream",
     "text": [
      "0 aaa : apple\n",
      "1 bbb : banana\n",
      "2 ccc : cake\n",
      "3 ddd : dog\n",
      "4 eee : egg\n"
     ]
    }
   ],
   "source": [
    "sss = ['apple', 'banana', 'cake', 'dog', 'egg', 'fish']\n",
    "sss2 = ['aaa', 'bbb', 'ccc', 'ddd', 'eee']\n",
    "for time, (s1, s2) in enumerate(zip(sss, sss2)):\n",
    "    print(time, s2, ':', s1)"
   ]
  },
  {
   "cell_type": "code",
   "execution_count": 35,
   "metadata": {},
   "outputs": [
    {
     "name": "stdout",
     "output_type": "stream",
     "text": [
      "asd\"123\n",
      "asd'123\n",
      "asd\"'123\n"
     ]
    }
   ],
   "source": [
    "print('asd\"123')\n",
    "print(\"asd'123\")\n",
    "print(\"asd\\\"'123\")"
   ]
  },
  {
   "cell_type": "code",
   "execution_count": 24,
   "metadata": {},
   "outputs": [
    {
     "name": "stdout",
     "output_type": "stream",
     "text": [
      "['apple', 'banana', 'cake', 'dog', 'egg', 'fish', 'aaa', 'bbb', 'ccc', 'ddd', 'eee', 'fff']\n"
     ]
    }
   ],
   "source": [
    "print(sss + sss2)"
   ]
  },
  {
   "cell_type": "code",
   "execution_count": 39,
   "metadata": {},
   "outputs": [
    {
     "name": "stdout",
     "output_type": "stream",
     "text": [
      "a apple\n",
      "b banana\n",
      "c cake\n"
     ]
    }
   ],
   "source": [
    "dddic = {'a':'apple', \n",
    "         'b':'banana',\n",
    "         'c':'cake'}\n",
    "for v in dddic:\n",
    "    print(v, dddic[v])"
   ]
  },
  {
   "cell_type": "code",
   "execution_count": 41,
   "metadata": {},
   "outputs": [
    {
     "name": "stdout",
     "output_type": "stream",
     "text": [
      "a apple\n",
      "b banana\n",
      "c cake\n"
     ]
    }
   ],
   "source": [
    "for key,value in dddic.items():\n",
    "    print(key, value)"
   ]
  },
  {
   "cell_type": "code",
   "execution_count": 53,
   "metadata": {},
   "outputs": [
    {
     "name": "stdout",
     "output_type": "stream",
     "text": [
      "789\n",
      "{'a': [123, 456, '789'], 'b': [], 'c': []}\n"
     ]
    }
   ],
   "source": [
    "dddic = {'a':[], \n",
    "         'b':[],\n",
    "         'c':[]}\n",
    "dddic['a'].append(123)\n",
    "dddic['a'].append(456)\n",
    "dddic['a'].append(input())\n",
    "print(dddic)"
   ]
  },
  {
   "cell_type": "code",
   "execution_count": 140,
   "metadata": {},
   "outputs": [
    {
     "name": "stdout",
     "output_type": "stream",
     "text": [
      "[3, 0, 0, 0, 0]\n",
      "[None, None, None, None, None]\n"
     ]
    }
   ],
   "source": [
    "a = [0]*5\n",
    "a[0] = 3\n",
    "print(a)\n",
    "\n",
    "b = [None]*5\n",
    "print(b)"
   ]
  },
  {
   "cell_type": "code",
   "execution_count": 71,
   "metadata": {
    "scrolled": true
   },
   "outputs": [
    {
     "name": "stdout",
     "output_type": "stream",
     "text": [
      "<__main__.Negator object at 0x7f8cdc136400>\n",
      "True\n",
      "False\n",
      "True\n",
      "True\n"
     ]
    }
   ],
   "source": [
    "class Negator(object):\n",
    "    def __eq__(self,other):\n",
    "        return not other\n",
    "\n",
    "thing = Negator()\n",
    "print(thing)\n",
    "print(thing == None)    #True Error\n",
    "print(thing is None)    #False\n",
    "print(thing is not None)    #False\n",
    "print(not thing is None)    #False"
   ]
  },
  {
   "cell_type": "code",
   "execution_count": 139,
   "metadata": {},
   "outputs": [
    {
     "name": "stdout",
     "output_type": "stream",
     "text": [
      "I have 5 apple !\n",
      "I have 5 apple !\n",
      "I have 5 apple !\n",
      "I have 5 apple !\n",
      "I have    5.00000      apple !\n",
      "I have 005 apple !\n",
      "I have 5 apple apple 5!\n",
      "I have 5 apple apple 5!\n",
      "I have 5 apple apple 5!\n"
     ]
    }
   ],
   "source": [
    "fruit = 'apple'\n",
    "num = 5\n",
    "print('I have', num, fruit, '!')\n",
    "print('I have '+str(num)+' '+fruit+' !')\n",
    "print('I have %d %s !'%(num, fruit))\n",
    "print('I have {} {} !'.format(num, fruit))\n",
    "print('I have {:10.5f} {:>10s} !'.format(num, fruit))\n",
    "print('I have {:03d} {} !'.format(num, fruit))\n",
    "print(f'I have {num} {fruit} {fruit} {num}!')\n",
    "print('I have {} {} {} {}!'.format(num, fruit, fruit, num))\n",
    "\n",
    "kkk = f'I have {num} {fruit} {fruit} {num}!'\n",
    "kkk2 = 'I have {} {} {} {}!'.format(num, fruit, fruit, num)\n",
    "print(kkk2)"
   ]
  },
  {
   "cell_type": "code",
   "execution_count": 100,
   "metadata": {},
   "outputs": [
    {
     "data": {
      "text/plain": [
       "' I han pen, I have apple.\\n enn, applepen\\n\\n'"
      ]
     },
     "execution_count": 100,
     "metadata": {},
     "output_type": "execute_result"
    }
   ],
   "source": [
    "sss = ' I han pen, I have apple.\\n enn, applepen\\n\\n'\n",
    "sss"
   ]
  },
  {
   "cell_type": "code",
   "execution_count": 101,
   "metadata": {},
   "outputs": [
    {
     "data": {
      "text/plain": [
       "' I han pen, I have apple. enn, applepen'"
      ]
     },
     "execution_count": 101,
     "metadata": {},
     "output_type": "execute_result"
    }
   ],
   "source": [
    "sss.replace('\\n', '')"
   ]
  },
  {
   "cell_type": "code",
   "execution_count": 105,
   "metadata": {},
   "outputs": [
    {
     "data": {
      "text/plain": [
       "'I han pen, I have apple.\\n enn, applepen'"
      ]
     },
     "execution_count": 105,
     "metadata": {},
     "output_type": "execute_result"
    }
   ],
   "source": [
    "sss.strip() # space tab newline"
   ]
  },
  {
   "cell_type": "code",
   "execution_count": 106,
   "metadata": {},
   "outputs": [
    {
     "data": {
      "text/plain": [
       "['I', 'han', 'pen,', 'I', 'have', 'apple.', 'enn,', 'applepen']"
      ]
     },
     "execution_count": 106,
     "metadata": {},
     "output_type": "execute_result"
    }
   ],
   "source": [
    "sss.split()"
   ]
  },
  {
   "cell_type": "code",
   "execution_count": 111,
   "metadata": {},
   "outputs": [
    {
     "data": {
      "text/plain": [
       "[' I han pen', ' I have apple.\\n enn', ' applepen\\n\\n']"
      ]
     },
     "execution_count": 111,
     "metadata": {},
     "output_type": "execute_result"
    }
   ],
   "source": [
    "sss.split(',')"
   ]
  },
  {
   "cell_type": "code",
   "execution_count": 118,
   "metadata": {},
   "outputs": [
    {
     "name": "stdout",
     "output_type": "stream",
     "text": [
      "['a', 'b', 'c', 'd', 'e', 'f', 'g', 'h']\n"
     ]
    }
   ],
   "source": [
    "sssss = 'a b ,c d e, f g, h'\n",
    "print(sssss.replace(',',' ').split())"
   ]
  },
  {
   "cell_type": "code",
   "execution_count": 123,
   "metadata": {},
   "outputs": [
    {
     "name": "stdout",
     "output_type": "stream",
     "text": [
      "[0, 1, 2, 3, 4]\n",
      "[0, 1, 8, 27, 64]\n",
      "[0, 1, 8, 27, 64]\n",
      "[0, 1, 8]\n"
     ]
    }
   ],
   "source": [
    "r = list(range(5))\n",
    "r2 = r.copy()\n",
    "for i,v in enumerate(r):\n",
    "    r2[i] = v**3\n",
    "    \n",
    "print(r)\n",
    "print(r2)\n",
    "\n",
    "r3 = [v**3 for v in r]\n",
    "print(r3)\n",
    "r4 = [v**3 for v in r if v < 3]\n",
    "print(r4)"
   ]
  },
  {
   "cell_type": "code",
   "execution_count": 129,
   "metadata": {},
   "outputs": [
    {
     "name": "stdout",
     "output_type": "stream",
     "text": [
      "['a!', 'b!', 'c!', 'd!', 'e!', 'f!', 'g!', 'h!']\n",
      "{'a!': 0, 'b!': 1, 'c!': 2, 'd!': 3, 'e!': 4, 'f!': 5, 'g!': 6, 'h!': 7}\n"
     ]
    }
   ],
   "source": [
    "def ABC(string):\n",
    "    return string+'!'\n",
    "\n",
    "sssss = 'a b c d e f g h'\n",
    "print([ABC(s) for s in sssss.split()])\n",
    "\n",
    "print({ABC(s):time for time,s in enumerate(sssss.split())})"
   ]
  },
  {
   "cell_type": "code",
   "execution_count": 132,
   "metadata": {},
   "outputs": [
    {
     "name": "stdout",
     "output_type": "stream",
     "text": [
      "True True False\n",
      "True False True\n",
      "False True True\n",
      "False False False\n"
     ]
    }
   ],
   "source": [
    "# ^ is XOR\n",
    "A = [True, False]\n",
    "B = [True, False]\n",
    "for a in A:\n",
    "    for b in B:\n",
    "        print(a, b, a^b)\n",
    "        \n",
    "# 0 + 0 = 0\n",
    "# 0 + 1 = 1\n",
    "# 1 + 0 = 1\n",
    "# 1 + 1 = 0 overflow"
   ]
  },
  {
   "cell_type": "code",
   "execution_count": null,
   "metadata": {},
   "outputs": [],
   "source": [
    "# 1\n",
    "f = open('xxx.txt')\n",
    "f.xxxx\n",
    "\n",
    "f.close()\n",
    "\n",
    "# 2\n",
    "with open('xxx.txt') as f:\n",
    "    lineS = f.readlines()  # to list\n",
    "    for line in lineS:\n",
    "        print(line)\n",
    "\n",
    "    line = f.readline()\n",
    "    # print(line)\n",
    "    while line is not None:\n",
    "        print(line)\n",
    "        line = f.readline() # to string\n"
   ]
  },
  {
   "cell_type": "code",
   "execution_count": 137,
   "metadata": {},
   "outputs": [],
   "source": [
    "# csv, log\n",
    "# png, xlsx\n",
    "# numpy\n",
    "# cv2\n",
    "# (hightm, width, chennal)\n",
    "# openpyxl\n",
    "# pyinstaller -> pack to exe"
   ]
  },
  {
   "cell_type": "code",
   "execution_count": null,
   "metadata": {},
   "outputs": [],
   "source": [
    "int a = 5;\n",
    "if(a){\n",
    "    XXXX\n",
    "}"
   ]
  },
  {
   "cell_type": "code",
   "execution_count": null,
   "metadata": {},
   "outputs": [],
   "source": []
  }
 ],
 "metadata": {
  "kernelspec": {
   "display_name": "Python 3",
   "language": "python",
   "name": "python3"
  },
  "language_info": {
   "codemirror_mode": {
    "name": "ipython",
    "version": 3
   },
   "file_extension": ".py",
   "mimetype": "text/x-python",
   "name": "python",
   "nbconvert_exporter": "python",
   "pygments_lexer": "ipython3",
   "version": "3.6.9"
  }
 },
 "nbformat": 4,
 "nbformat_minor": 4
}
